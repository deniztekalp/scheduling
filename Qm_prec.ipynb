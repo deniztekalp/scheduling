{
 "cells": [
  {
   "cell_type": "code",
   "execution_count": 3,
   "id": "749419fb-d224-4848-80d9-33220afab13c",
   "metadata": {},
   "outputs": [],
   "source": [
    "import networkx as nx\n",
    "import numpy as np\n",
    "import pandas as pd\n",
    "import math\n",
    "import matplotlib.pyplot as plt\n",
    "import gurobipy as gp\n",
    "from gurobipy import GRB"
   ]
  },
  {
   "cell_type": "code",
   "execution_count": 184,
   "id": "e79ae887-cbf2-473c-960d-59571e00363c",
   "metadata": {},
   "outputs": [],
   "source": [
    "no_machines = 10\n",
    "no_jobs = 30\n",
    "d = np.random.randint(30,100, no_jobs)\n",
    "r = np.random.randint(0,25, no_jobs)\n",
    "w = np.random.rand(no_jobs)\n",
    "v = np.random.randint(1,3,no_machines)\n",
    "p = np.random.randint(1,4, (no_machines, no_jobs))*2\n",
    "max_time = 40\n",
    "no_machines_each_job_can_work_with = 3\n",
    "F = np.empty((no_jobs, no_machines_each_job_can_work_with)) \n",
    "for j in range(no_jobs):\n",
    "    F[j,:] = np.random.choice(no_machines, no_machines_each_job_can_work_with, replace = False)\n",
    "#assumption: each job in the second half has 2 jobs as precedent from the first half\n",
    "no_precedent_per_job = 2\n",
    "prec = np.zeros((no_jobs, no_precedent_per_job), dtype = int) \n",
    "for j in range(int(no_jobs/2)):\n",
    "    prec[10+j] = np.random.choice(int(no_jobs/2), no_precedent_per_job, replace = False)"
   ]
  },
  {
   "cell_type": "code",
   "execution_count": 185,
   "id": "44aaf0e3-1006-49fb-8569-e9c576032d90",
   "metadata": {},
   "outputs": [],
   "source": [
    "G = nx.DiGraph()"
   ]
  },
  {
   "cell_type": "code",
   "execution_count": 186,
   "id": "4895a155-d819-4c03-a13b-8e7b951ab47b",
   "metadata": {},
   "outputs": [],
   "source": [
    "for job in range(no_jobs):\n",
    "    for i in prec[job,]:\n",
    "        if i > 0:\n",
    "            G.add_edge(str(job), str(i), weight=1)"
   ]
  },
  {
   "cell_type": "code",
   "execution_count": 187,
   "id": "72d779ed-626c-4cfa-9055-02df9cd41e7b",
   "metadata": {},
   "outputs": [
    {
     "name": "stdout",
     "output_type": "stream",
     "text": [
      "Precedence constraints are valid; There are no cycles in the precedence constraints\n"
     ]
    }
   ],
   "source": [
    "try:\n",
    "    nx.find_cycle(G)\n",
    "    print(\"Error: There is a cycle in the precendece constraints\")\n",
    "except nx.exception.NetworkXNoCycle:\n",
    "    print(\"Precedence constraints are valid; There are no cycles in the precedence constraints\")"
   ]
  },
  {
   "cell_type": "code",
   "execution_count": 188,
   "id": "fecdaa65-9321-41d8-bfbe-f3b14a6263c5",
   "metadata": {},
   "outputs": [
    {
     "name": "stdout",
     "output_type": "stream",
     "text": [
      "Gurobi Optimizer version 9.1.1 build v9.1.1rc0 (mac64)\n",
      "Thread count: 8 physical cores, 16 logical processors, using up to 16 threads\n",
      "Optimize a model with 790 rows, 12031 columns and 119502 nonzeros\n",
      "Model fingerprint: 0x40a5d520\n",
      "Variable types: 31 continuous, 12000 integer (12000 binary)\n",
      "Coefficient statistics:\n",
      "  Matrix range     [1e+00, 4e+01]\n",
      "  Objective range  [8e-03, 8e-01]\n",
      "  Bounds range     [1e+00, 1e+00]\n",
      "  RHS range        [1e+00, 1e+02]\n",
      "Presolve removed 691 rows and 11765 columns\n",
      "Presolve time: 0.06s\n",
      "Presolved: 99 rows, 266 columns, 1167 nonzeros\n",
      "Variable types: 0 continuous, 266 integer (265 binary)\n",
      "Found heuristic solution: objective 34.4000000\n",
      "Found heuristic solution: objective 24.0000000\n",
      "Found heuristic solution: objective 23.2000000\n",
      "Found heuristic solution: objective 22.4000000\n",
      "\n",
      "Explored 0 nodes (0 simplex iterations) in 0.09 seconds\n",
      "Thread count was 16 (of 16 available processors)\n",
      "\n",
      "Solution count 4: 22.4 23.2 24 34.4 \n",
      "\n",
      "Optimal solution found (tolerance 1.00e-04)\n",
      "Best objective 2.240000000000e+01, best bound 2.240000000000e+01, gap 0.0000%\n",
      "Obj: 22.4\n"
     ]
    }
   ],
   "source": [
    "L = np.arange(max_time)\n",
    "N = np.arange(no_jobs)\n",
    "M = np.arange(no_machines)\n",
    "\n",
    "θ1 = 0.8\n",
    "θ2 = 0.2\n",
    "try:\n",
    "    # Create a new model\n",
    "    m = gp.Model(\"scheduling2\")\n",
    "\n",
    "    # Create variables, x binary indicator variable that indicates whether job j starts at time time t\n",
    "    x = m.addVars(M, N, L, vtype=GRB.BINARY, name=\"x\")\n",
    "    t = m.addVars(N, name=\"tardiness\")\n",
    "    C = m.addVar(name = \"makespan\")\n",
    "\n",
    "\n",
    "    # Set objective, minimize weighted completion times, NP hard problem\n",
    "    m.setObjective(θ1 * C + θ2 * sum(w[j]*t[j] for j in N), GRB.MINIMIZE)\n",
    "        \n",
    "    #define tardiness\n",
    "    m.addConstrs((t[j] >= 0 for j in N),\"one\")\n",
    "    m.addConstrs((t[j] >= sum(x[i,j,t] * (t + p[i,j]/v[i]) for i in M for t in L) - d[j] for j in N),\"two\")\n",
    "        \n",
    "    #define makespan\n",
    "    m.addConstrs((C >= sum(x[i,j,t] * (t + p[i,j]/v[i]) for i in M for t in L) for j in N),\"three\")\n",
    "\n",
    "    #jobs can be started only after their release date\n",
    "    m.addConstrs((sum(x[i,j,t] * t for i in M for t in L) >= r[j] for j in N),\"four\")\n",
    "        \n",
    "    #jobs can only be started once, and they must all be started at least once\n",
    "    m.addConstrs((sum(x[i,j,t] for i in M for t in L) == 1 for j in N),\"five\")\n",
    "        \n",
    "    #jobs can only be processed on machines they are eligible for \n",
    "    m.addConstrs((sum(x[i,j,t] for t in L) == 0 for j in N for i in np.setdiff1d(np.arange(no_machines), F[j,])), \"six\")\n",
    "        \n",
    "    #no overlap\n",
    "    m.addConstrs(((sum(x[i,j,s] for j in N for s in np.arange(max(t-int(p[i,j]/v[i]), 0), max(0, t))) <= 1  for i in M for t in L)), \"seven\")\n",
    "        \n",
    "    #enforce precedence constraints\n",
    "    m.addConstrs((sum(x[i,j,t] * (t + p[i,j]/v[i]) for i in M for t in L) <= sum(x[i,k,t] * t for i in M for t in L) for k in range(int(no_jobs/2), no_jobs) for j in prec[k]),\"eight\")\n",
    "       \n",
    "    # Optimize model\n",
    "    m.optimize()\n",
    "                 \n",
    "  \n",
    "\n",
    "    print('Obj: %g' % m.objVal)\n",
    "\n",
    "\n",
    "except gp.GurobiError as e:\n",
    "    print('Error code ' + str(e.errno) + ': ' + str(e))\n",
    "\n",
    "except AttributeError:\n",
    "    print('Encountered an attribute error')"
   ]
  },
  {
   "cell_type": "code",
   "execution_count": 241,
   "id": "41a825fe-fe0b-4547-8cf1-26305a4b0b54",
   "metadata": {},
   "outputs": [],
   "source": [
    "res = {}\n",
    "for i in range(no_machines):\n",
    "    res[i] = []\n",
    "    \n",
    "    \n",
    "for var in m.getVars():\n",
    "        if var.x == 1:\n",
    "            txt = var.varName[2:-1].split(\",\")\n",
    "            machine = int(txt[0])\n",
    "            job = int(txt[1])\n",
    "            start_time = int(txt[2])\n",
    "            processing_time = int(p[machine, job] / v[machine])\n",
    "            end_time = start_time + processing_time\n",
    "            res[machine] =  np.append(res[machine], np.arange(start_time, end_time+1))"
   ]
  },
  {
   "cell_type": "code",
   "execution_count": 243,
   "id": "c40e63c4-680e-43af-aec7-acf2578827e9",
   "metadata": {},
   "outputs": [
    {
     "data": {
      "image/png": "[encoded data removed]",
      "text/plain": [
       "<Figure size 640x480 with 1 Axes>"
      ]
     },
     "metadata": {},
     "output_type": "display_data"
    }
   ],
   "source": [
    "plt.rcdefaults()\n",
    "fig, ax = plt.subplots()\n",
    "\n",
    "performance = tmp\n",
    "\n",
    "for y in M:\n",
    "    for j in res[y]:\n",
    "        ax.barh(y, width = 1, left = j, align='center', color='crimson')\n",
    "ax.invert_yaxis()  # labels read top-to-bottom\n",
    "\n",
    "plt.show()"
   ]
  },
  {
   "cell_type": "code",
   "execution_count": null,
   "id": "79cb55f4-e79f-4080-907b-1fdcb3fa5bd1",
   "metadata": {},
   "outputs": [],
   "source": []
  }
 ],
 "metadata": {
  "kernelspec": {
   "display_name": "Python 3 (ipykernel)",
   "language": "python",
   "name": "python3"
  },
  "language_info": {
   "codemirror_mode": {
    "name": "ipython",
    "version": 3
   },
   "file_extension": ".py",
   "mimetype": "text/x-python",
   "name": "python",
   "nbconvert_exporter": "python",
   "pygments_lexer": "ipython3",
   "version": "3.8.5"
  }
 },
 "nbformat": 4,
 "nbformat_minor": 5
}
